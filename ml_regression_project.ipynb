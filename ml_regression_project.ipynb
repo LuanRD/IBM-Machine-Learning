{
 "cells": [
  {
   "cell_type": "markdown",
   "id": "5a0e745e",
   "metadata": {},
   "source": [
    "# Brazilians Houses to Rent"
   ]
  },
  {
   "cell_type": "markdown",
   "id": "be1ac71d",
   "metadata": {},
   "source": [
    "- This dataset contains information about Brazilian houses to rent. \n",
    "- The data was obtained by a Web Crawler made by the author. For more information, use the [link](https://www.kaggle.com/datasets/rubenssjr/brasilian-houses-to-rent?select=houses_to_rent_v2.csv) that redirects to the Kaggle's Page. \n",
    "- Bellow there's a summary with the description of each variable of the dataset (description provided by the author of the dataset):\n",
    "\n",
    "| Variable | Description|\n",
    "|:------:|:------:|\n",
    "| city | City where the property is located|\n",
    "| area | Property area|\n",
    "| rooms | Quantity of rooms |\n",
    "| bathroom | Quantity of bathroom |\n",
    "| parking spaces | Quantity of parking spaces |\n",
    "| floor | Floor|\n",
    "| animal | Accept animals?|\n",
    "| furniture |  Furniture?|\n",
    "| hoa (RS) | Homeowners association tax|\n",
    "| rent amount (RS) | Rent amount|\n",
    "| property tax (RS) | Property tax|\n",
    "| fire insurance (RS) |  Fire Insurance|\n",
    "| total (RS) | Total|"
   ]
  },
  {
   "cell_type": "markdown",
   "id": "4a67a5c8",
   "metadata": {},
   "source": [
    "## Objectives"
   ]
  },
  {
   "cell_type": "markdown",
   "id": "b47ae312",
   "metadata": {},
   "source": [
    "- Performing an EDA and Feature Engineering in the variables of the Houses's Dataset.\n",
    "- Testing different Machine Learning Regressions models and defining the best one.\n",
    "\n",
    "- Linear regreesion models variations used for this training:\n",
    "    - Regular Linear Regression \n",
    "    - Linear Regression with Polynomial Features\n",
    "    - LASSO Regression"
   ]
  },
  {
   "cell_type": "markdown",
   "id": "a2c40844",
   "metadata": {},
   "source": [
    "## Imports"
   ]
  },
  {
   "cell_type": "code",
   "execution_count": 1,
   "id": "cda7c992",
   "metadata": {},
   "outputs": [],
   "source": [
    "import pandas as pd\n",
    "import matplotlib.pyplot as plt\n",
    "import seaborn as sns\n",
    "import numpy as np\n",
    "import scipy.stats as stats \n",
    "\n",
    "from sklearn.preprocessing import StandardScaler, PolynomialFeatures, OneHotEncoder, StandardScaler\n",
    "from sklearn.compose import ColumnTransformer\n",
    "from sklearn.model_selection import train_test_split\n",
    "from sklearn.linear_model import LinearRegression, Lasso, Ridge\n",
    "from sklearn.metrics import r2_score, mean_squared_error\n",
    "from sklearn.pipeline import Pipeline"
   ]
  },
  {
   "cell_type": "markdown",
   "id": "95430193",
   "metadata": {},
   "source": [
    "## Data Cleaning"
   ]
  },
  {
   "cell_type": "code",
   "execution_count": 2,
   "id": "4241cb4b",
   "metadata": {},
   "outputs": [
    {
     "data": {
      "text/html": [
       "<div>\n",
       "<style scoped>\n",
       "    .dataframe tbody tr th:only-of-type {\n",
       "        vertical-align: middle;\n",
       "    }\n",
       "\n",
       "    .dataframe tbody tr th {\n",
       "        vertical-align: top;\n",
       "    }\n",
       "\n",
       "    .dataframe thead th {\n",
       "        text-align: right;\n",
       "    }\n",
       "</style>\n",
       "<table border=\"1\" class=\"dataframe\">\n",
       "  <thead>\n",
       "    <tr style=\"text-align: right;\">\n",
       "      <th></th>\n",
       "      <th>city</th>\n",
       "      <th>area</th>\n",
       "      <th>rooms</th>\n",
       "      <th>bathroom</th>\n",
       "      <th>parking spaces</th>\n",
       "      <th>floor</th>\n",
       "      <th>animal</th>\n",
       "      <th>furniture</th>\n",
       "      <th>hoa (R$)</th>\n",
       "      <th>rent amount (R$)</th>\n",
       "      <th>property tax (R$)</th>\n",
       "      <th>fire insurance (R$)</th>\n",
       "      <th>total (R$)</th>\n",
       "    </tr>\n",
       "  </thead>\n",
       "  <tbody>\n",
       "    <tr>\n",
       "      <th>0</th>\n",
       "      <td>São Paulo</td>\n",
       "      <td>70</td>\n",
       "      <td>2</td>\n",
       "      <td>1</td>\n",
       "      <td>1</td>\n",
       "      <td>7</td>\n",
       "      <td>acept</td>\n",
       "      <td>furnished</td>\n",
       "      <td>2065</td>\n",
       "      <td>3300</td>\n",
       "      <td>211</td>\n",
       "      <td>42</td>\n",
       "      <td>5618</td>\n",
       "    </tr>\n",
       "    <tr>\n",
       "      <th>1</th>\n",
       "      <td>São Paulo</td>\n",
       "      <td>320</td>\n",
       "      <td>4</td>\n",
       "      <td>4</td>\n",
       "      <td>0</td>\n",
       "      <td>20</td>\n",
       "      <td>acept</td>\n",
       "      <td>not furnished</td>\n",
       "      <td>1200</td>\n",
       "      <td>4960</td>\n",
       "      <td>1750</td>\n",
       "      <td>63</td>\n",
       "      <td>7973</td>\n",
       "    </tr>\n",
       "    <tr>\n",
       "      <th>2</th>\n",
       "      <td>Porto Alegre</td>\n",
       "      <td>80</td>\n",
       "      <td>1</td>\n",
       "      <td>1</td>\n",
       "      <td>1</td>\n",
       "      <td>6</td>\n",
       "      <td>acept</td>\n",
       "      <td>not furnished</td>\n",
       "      <td>1000</td>\n",
       "      <td>2800</td>\n",
       "      <td>0</td>\n",
       "      <td>41</td>\n",
       "      <td>3841</td>\n",
       "    </tr>\n",
       "    <tr>\n",
       "      <th>3</th>\n",
       "      <td>Porto Alegre</td>\n",
       "      <td>51</td>\n",
       "      <td>2</td>\n",
       "      <td>1</td>\n",
       "      <td>0</td>\n",
       "      <td>2</td>\n",
       "      <td>acept</td>\n",
       "      <td>not furnished</td>\n",
       "      <td>270</td>\n",
       "      <td>1112</td>\n",
       "      <td>22</td>\n",
       "      <td>17</td>\n",
       "      <td>1421</td>\n",
       "    </tr>\n",
       "    <tr>\n",
       "      <th>4</th>\n",
       "      <td>São Paulo</td>\n",
       "      <td>25</td>\n",
       "      <td>1</td>\n",
       "      <td>1</td>\n",
       "      <td>0</td>\n",
       "      <td>1</td>\n",
       "      <td>not acept</td>\n",
       "      <td>not furnished</td>\n",
       "      <td>0</td>\n",
       "      <td>800</td>\n",
       "      <td>25</td>\n",
       "      <td>11</td>\n",
       "      <td>836</td>\n",
       "    </tr>\n",
       "  </tbody>\n",
       "</table>\n",
       "</div>"
      ],
      "text/plain": [
       "           city  area  rooms  bathroom  parking spaces floor     animal  \\\n",
       "0     São Paulo    70      2         1               1     7      acept   \n",
       "1     São Paulo   320      4         4               0    20      acept   \n",
       "2  Porto Alegre    80      1         1               1     6      acept   \n",
       "3  Porto Alegre    51      2         1               0     2      acept   \n",
       "4     São Paulo    25      1         1               0     1  not acept   \n",
       "\n",
       "       furniture  hoa (R$)  rent amount (R$)  property tax (R$)  \\\n",
       "0      furnished      2065              3300                211   \n",
       "1  not furnished      1200              4960               1750   \n",
       "2  not furnished      1000              2800                  0   \n",
       "3  not furnished       270              1112                 22   \n",
       "4  not furnished         0               800                 25   \n",
       "\n",
       "   fire insurance (R$)  total (R$)  \n",
       "0                   42        5618  \n",
       "1                   63        7973  \n",
       "2                   41        3841  \n",
       "3                   17        1421  \n",
       "4                   11         836  "
      ]
     },
     "execution_count": 2,
     "metadata": {},
     "output_type": "execute_result"
    }
   ],
   "source": [
    "data = pd.read_csv('data/houses_to_rent_v2.csv')\n",
    "data.head()"
   ]
  },
  {
   "cell_type": "code",
   "execution_count": 3,
   "id": "fb2f190e",
   "metadata": {},
   "outputs": [
    {
     "name": "stdout",
     "output_type": "stream",
     "text": [
      "<class 'pandas.core.frame.DataFrame'>\n",
      "RangeIndex: 10692 entries, 0 to 10691\n",
      "Data columns (total 13 columns):\n",
      " #   Column               Non-Null Count  Dtype \n",
      "---  ------               --------------  ----- \n",
      " 0   city                 10692 non-null  object\n",
      " 1   area                 10692 non-null  int64 \n",
      " 2   rooms                10692 non-null  int64 \n",
      " 3   bathroom             10692 non-null  int64 \n",
      " 4   parking spaces       10692 non-null  int64 \n",
      " 5   floor                10692 non-null  object\n",
      " 6   animal               10692 non-null  object\n",
      " 7   furniture            10692 non-null  object\n",
      " 8   hoa (R$)             10692 non-null  int64 \n",
      " 9   rent amount (R$)     10692 non-null  int64 \n",
      " 10  property tax (R$)    10692 non-null  int64 \n",
      " 11  fire insurance (R$)  10692 non-null  int64 \n",
      " 12  total (R$)           10692 non-null  int64 \n",
      "dtypes: int64(9), object(4)\n",
      "memory usage: 1.1+ MB\n"
     ]
    }
   ],
   "source": [
    "data.info()"
   ]
  },
  {
   "cell_type": "markdown",
   "id": "168bd43e",
   "metadata": {},
   "source": [
    "As shown above, there are 10692 entries separated between 13 columns and there are no null values in the entire dataset. There are 4 columns with \"object\" dtype and 9 columns with \"int64\" as dtype. Since some columns have uncommon names, they will be renamed to ease the analysis."
   ]
  },
  {
   "cell_type": "code",
   "execution_count": 4,
   "id": "8734282a",
   "metadata": {},
   "outputs": [
    {
     "data": {
      "text/html": [
       "<div>\n",
       "<style scoped>\n",
       "    .dataframe tbody tr th:only-of-type {\n",
       "        vertical-align: middle;\n",
       "    }\n",
       "\n",
       "    .dataframe tbody tr th {\n",
       "        vertical-align: top;\n",
       "    }\n",
       "\n",
       "    .dataframe thead th {\n",
       "        text-align: right;\n",
       "    }\n",
       "</style>\n",
       "<table border=\"1\" class=\"dataframe\">\n",
       "  <thead>\n",
       "    <tr style=\"text-align: right;\">\n",
       "      <th></th>\n",
       "      <th>city</th>\n",
       "      <th>area</th>\n",
       "      <th>rooms</th>\n",
       "      <th>bathroom</th>\n",
       "      <th>parking_spaces</th>\n",
       "      <th>floor</th>\n",
       "      <th>animal</th>\n",
       "      <th>furniture</th>\n",
       "      <th>association_tax</th>\n",
       "      <th>rent_amount</th>\n",
       "      <th>property_tax</th>\n",
       "      <th>fire_insurance</th>\n",
       "      <th>total</th>\n",
       "    </tr>\n",
       "  </thead>\n",
       "  <tbody>\n",
       "    <tr>\n",
       "      <th>0</th>\n",
       "      <td>São Paulo</td>\n",
       "      <td>70</td>\n",
       "      <td>2</td>\n",
       "      <td>1</td>\n",
       "      <td>1</td>\n",
       "      <td>7</td>\n",
       "      <td>acept</td>\n",
       "      <td>furnished</td>\n",
       "      <td>2065</td>\n",
       "      <td>3300</td>\n",
       "      <td>211</td>\n",
       "      <td>42</td>\n",
       "      <td>5618</td>\n",
       "    </tr>\n",
       "    <tr>\n",
       "      <th>1</th>\n",
       "      <td>São Paulo</td>\n",
       "      <td>320</td>\n",
       "      <td>4</td>\n",
       "      <td>4</td>\n",
       "      <td>0</td>\n",
       "      <td>20</td>\n",
       "      <td>acept</td>\n",
       "      <td>not furnished</td>\n",
       "      <td>1200</td>\n",
       "      <td>4960</td>\n",
       "      <td>1750</td>\n",
       "      <td>63</td>\n",
       "      <td>7973</td>\n",
       "    </tr>\n",
       "    <tr>\n",
       "      <th>2</th>\n",
       "      <td>Porto Alegre</td>\n",
       "      <td>80</td>\n",
       "      <td>1</td>\n",
       "      <td>1</td>\n",
       "      <td>1</td>\n",
       "      <td>6</td>\n",
       "      <td>acept</td>\n",
       "      <td>not furnished</td>\n",
       "      <td>1000</td>\n",
       "      <td>2800</td>\n",
       "      <td>0</td>\n",
       "      <td>41</td>\n",
       "      <td>3841</td>\n",
       "    </tr>\n",
       "    <tr>\n",
       "      <th>3</th>\n",
       "      <td>Porto Alegre</td>\n",
       "      <td>51</td>\n",
       "      <td>2</td>\n",
       "      <td>1</td>\n",
       "      <td>0</td>\n",
       "      <td>2</td>\n",
       "      <td>acept</td>\n",
       "      <td>not furnished</td>\n",
       "      <td>270</td>\n",
       "      <td>1112</td>\n",
       "      <td>22</td>\n",
       "      <td>17</td>\n",
       "      <td>1421</td>\n",
       "    </tr>\n",
       "    <tr>\n",
       "      <th>4</th>\n",
       "      <td>São Paulo</td>\n",
       "      <td>25</td>\n",
       "      <td>1</td>\n",
       "      <td>1</td>\n",
       "      <td>0</td>\n",
       "      <td>1</td>\n",
       "      <td>not acept</td>\n",
       "      <td>not furnished</td>\n",
       "      <td>0</td>\n",
       "      <td>800</td>\n",
       "      <td>25</td>\n",
       "      <td>11</td>\n",
       "      <td>836</td>\n",
       "    </tr>\n",
       "  </tbody>\n",
       "</table>\n",
       "</div>"
      ],
      "text/plain": [
       "           city  area  rooms  bathroom  parking_spaces floor     animal  \\\n",
       "0     São Paulo    70      2         1               1     7      acept   \n",
       "1     São Paulo   320      4         4               0    20      acept   \n",
       "2  Porto Alegre    80      1         1               1     6      acept   \n",
       "3  Porto Alegre    51      2         1               0     2      acept   \n",
       "4     São Paulo    25      1         1               0     1  not acept   \n",
       "\n",
       "       furniture  association_tax  rent_amount  property_tax  fire_insurance  \\\n",
       "0      furnished             2065         3300           211              42   \n",
       "1  not furnished             1200         4960          1750              63   \n",
       "2  not furnished             1000         2800             0              41   \n",
       "3  not furnished              270         1112            22              17   \n",
       "4  not furnished                0          800            25              11   \n",
       "\n",
       "   total  \n",
       "0   5618  \n",
       "1   7973  \n",
       "2   3841  \n",
       "3   1421  \n",
       "4    836  "
      ]
     },
     "execution_count": 4,
     "metadata": {},
     "output_type": "execute_result"
    }
   ],
   "source": [
    "columns_names = {'parking spaces': 'parking_spaces',\n",
    "                 'hoa (R$)':'association_tax',\n",
    "                 'rent amount (R$)': 'rent_amount',\n",
    "                 'property tax (R$)': 'property_tax',\n",
    "                 'fire insurance (R$)': 'fire_insurance',\n",
    "                 'total (R$)': 'total'}\n",
    "\n",
    "data = data.rename(columns=columns_names)\n",
    "data.head()"
   ]
  },
  {
   "cell_type": "markdown",
   "id": "6581b736",
   "metadata": {},
   "source": [
    "First, let's remove all duplicate values from the dataset."
   ]
  },
  {
   "cell_type": "code",
   "execution_count": 5,
   "id": "0832dc7c",
   "metadata": {},
   "outputs": [
    {
     "data": {
      "text/plain": [
       "358"
      ]
     },
     "execution_count": 5,
     "metadata": {},
     "output_type": "execute_result"
    }
   ],
   "source": [
    "duplicate = data.duplicated().sum()\n",
    "duplicate"
   ]
  },
  {
   "cell_type": "code",
   "execution_count": 6,
   "id": "9f56461a",
   "metadata": {},
   "outputs": [
    {
     "name": "stdout",
     "output_type": "stream",
     "text": [
      "Lenght of original dataset: 10692\n",
      "Lenght of new dataset: 10334\n"
     ]
    }
   ],
   "source": [
    "data1 = data.drop_duplicates()\n",
    "print(f'Lenght of original dataset: {len(data)}')\n",
    "print(f'Lenght of new dataset: {len(data1)}')"
   ]
  },
  {
   "cell_type": "code",
   "execution_count": 7,
   "id": "c6d8b7b9",
   "metadata": {
    "scrolled": true
   },
   "outputs": [
    {
     "data": {
      "text/html": [
       "<div>\n",
       "<style scoped>\n",
       "    .dataframe tbody tr th:only-of-type {\n",
       "        vertical-align: middle;\n",
       "    }\n",
       "\n",
       "    .dataframe tbody tr th {\n",
       "        vertical-align: top;\n",
       "    }\n",
       "\n",
       "    .dataframe thead th {\n",
       "        text-align: right;\n",
       "    }\n",
       "</style>\n",
       "<table border=\"1\" class=\"dataframe\">\n",
       "  <thead>\n",
       "    <tr style=\"text-align: right;\">\n",
       "      <th></th>\n",
       "      <th>area</th>\n",
       "      <th>rooms</th>\n",
       "      <th>bathroom</th>\n",
       "      <th>parking_spaces</th>\n",
       "      <th>association_tax</th>\n",
       "      <th>rent_amount</th>\n",
       "      <th>property_tax</th>\n",
       "      <th>fire_insurance</th>\n",
       "      <th>total</th>\n",
       "    </tr>\n",
       "  </thead>\n",
       "  <tbody>\n",
       "    <tr>\n",
       "      <th>count</th>\n",
       "      <td>10334.000000</td>\n",
       "      <td>10334.000000</td>\n",
       "      <td>10334.000000</td>\n",
       "      <td>10334.000000</td>\n",
       "      <td>1.033400e+04</td>\n",
       "      <td>10334.000000</td>\n",
       "      <td>10334.000000</td>\n",
       "      <td>10334.000000</td>\n",
       "      <td>1.033400e+04</td>\n",
       "    </tr>\n",
       "    <tr>\n",
       "      <th>mean</th>\n",
       "      <td>152.439423</td>\n",
       "      <td>2.539965</td>\n",
       "      <td>2.268725</td>\n",
       "      <td>1.644475</td>\n",
       "      <td>1.091244e+03</td>\n",
       "      <td>3966.296013</td>\n",
       "      <td>376.929263</td>\n",
       "      <td>54.264273</td>\n",
       "      <td>5.488943e+03</td>\n",
       "    </tr>\n",
       "    <tr>\n",
       "      <th>std</th>\n",
       "      <td>545.875595</td>\n",
       "      <td>1.168185</td>\n",
       "      <td>1.414650</td>\n",
       "      <td>1.598527</td>\n",
       "      <td>1.144609e+04</td>\n",
       "      <td>3436.190007</td>\n",
       "      <td>3160.602165</td>\n",
       "      <td>48.164380</td>\n",
       "      <td>1.266911e+04</td>\n",
       "    </tr>\n",
       "    <tr>\n",
       "      <th>min</th>\n",
       "      <td>11.000000</td>\n",
       "      <td>1.000000</td>\n",
       "      <td>1.000000</td>\n",
       "      <td>0.000000</td>\n",
       "      <td>0.000000e+00</td>\n",
       "      <td>450.000000</td>\n",
       "      <td>0.000000</td>\n",
       "      <td>3.000000</td>\n",
       "      <td>4.990000e+02</td>\n",
       "    </tr>\n",
       "    <tr>\n",
       "      <th>25%</th>\n",
       "      <td>59.000000</td>\n",
       "      <td>2.000000</td>\n",
       "      <td>1.000000</td>\n",
       "      <td>1.000000</td>\n",
       "      <td>1.800000e+02</td>\n",
       "      <td>1598.250000</td>\n",
       "      <td>41.000000</td>\n",
       "      <td>21.000000</td>\n",
       "      <td>2.116000e+03</td>\n",
       "    </tr>\n",
       "    <tr>\n",
       "      <th>50%</th>\n",
       "      <td>95.000000</td>\n",
       "      <td>3.000000</td>\n",
       "      <td>2.000000</td>\n",
       "      <td>1.000000</td>\n",
       "      <td>5.710000e+02</td>\n",
       "      <td>2750.000000</td>\n",
       "      <td>130.000000</td>\n",
       "      <td>37.000000</td>\n",
       "      <td>3.685500e+03</td>\n",
       "    </tr>\n",
       "    <tr>\n",
       "      <th>75%</th>\n",
       "      <td>190.000000</td>\n",
       "      <td>3.000000</td>\n",
       "      <td>3.000000</td>\n",
       "      <td>2.000000</td>\n",
       "      <td>1.286750e+03</td>\n",
       "      <td>5000.000000</td>\n",
       "      <td>389.750000</td>\n",
       "      <td>70.000000</td>\n",
       "      <td>6.912000e+03</td>\n",
       "    </tr>\n",
       "    <tr>\n",
       "      <th>max</th>\n",
       "      <td>46335.000000</td>\n",
       "      <td>13.000000</td>\n",
       "      <td>10.000000</td>\n",
       "      <td>12.000000</td>\n",
       "      <td>1.117000e+06</td>\n",
       "      <td>45000.000000</td>\n",
       "      <td>313700.000000</td>\n",
       "      <td>677.000000</td>\n",
       "      <td>1.120000e+06</td>\n",
       "    </tr>\n",
       "  </tbody>\n",
       "</table>\n",
       "</div>"
      ],
      "text/plain": [
       "               area         rooms      bathroom  parking_spaces  \\\n",
       "count  10334.000000  10334.000000  10334.000000    10334.000000   \n",
       "mean     152.439423      2.539965      2.268725        1.644475   \n",
       "std      545.875595      1.168185      1.414650        1.598527   \n",
       "min       11.000000      1.000000      1.000000        0.000000   \n",
       "25%       59.000000      2.000000      1.000000        1.000000   \n",
       "50%       95.000000      3.000000      2.000000        1.000000   \n",
       "75%      190.000000      3.000000      3.000000        2.000000   \n",
       "max    46335.000000     13.000000     10.000000       12.000000   \n",
       "\n",
       "       association_tax   rent_amount   property_tax  fire_insurance  \\\n",
       "count     1.033400e+04  10334.000000   10334.000000    10334.000000   \n",
       "mean      1.091244e+03   3966.296013     376.929263       54.264273   \n",
       "std       1.144609e+04   3436.190007    3160.602165       48.164380   \n",
       "min       0.000000e+00    450.000000       0.000000        3.000000   \n",
       "25%       1.800000e+02   1598.250000      41.000000       21.000000   \n",
       "50%       5.710000e+02   2750.000000     130.000000       37.000000   \n",
       "75%       1.286750e+03   5000.000000     389.750000       70.000000   \n",
       "max       1.117000e+06  45000.000000  313700.000000      677.000000   \n",
       "\n",
       "              total  \n",
       "count  1.033400e+04  \n",
       "mean   5.488943e+03  \n",
       "std    1.266911e+04  \n",
       "min    4.990000e+02  \n",
       "25%    2.116000e+03  \n",
       "50%    3.685500e+03  \n",
       "75%    6.912000e+03  \n",
       "max    1.120000e+06  "
      ]
     },
     "execution_count": 7,
     "metadata": {},
     "output_type": "execute_result"
    }
   ],
   "source": [
    "data1.describe()"
   ]
  },
  {
   "cell_type": "markdown",
   "id": "e3216e49",
   "metadata": {},
   "source": [
    "There is an abnormally high value for the max values of all variables compared to the 75% quantile values. Let's first analyze the variable 'area'."
   ]
  },
  {
   "cell_type": "code",
   "execution_count": 8,
   "id": "ec5c41b5",
   "metadata": {},
   "outputs": [
    {
     "data": {
      "text/plain": [
       "[<matplotlib.lines.Line2D at 0x1d781a13a00>]"
      ]
     },
     "execution_count": 8,
     "metadata": {},
     "output_type": "execute_result"
    },
    {
     "data": {
      "image/png": "[encoded data removed]",
      "text/plain": [
       "<Figure size 432x288 with 1 Axes>"
      ]
     },
     "metadata": {
      "needs_background": "light"
     },
     "output_type": "display_data"
    }
   ],
   "source": [
    "plt.plot(data1.area)"
   ]
  },
  {
   "cell_type": "code",
   "execution_count": 9,
   "id": "d61c7323",
   "metadata": {
    "scrolled": true
   },
   "outputs": [
    {
     "data": {
      "text/plain": [
       "<AxesSubplot:xlabel='area'>"
      ]
     },
     "execution_count": 9,
     "metadata": {},
     "output_type": "execute_result"
    },
    {
     "data": {
      "image/png": "[encoded data removed]",
      "text/plain": [
       "<Figure size 432x288 with 1 Axes>"
      ]
     },
     "metadata": {
      "needs_background": "light"
     },
     "output_type": "display_data"
    }
   ],
   "source": [
    "sns.boxplot(data=data1, x='area')"
   ]
  },
  {
   "cell_type": "markdown",
   "id": "41d312b9",
   "metadata": {},
   "source": [
    "Therefore, those 3 values will be identified and excluded from the dataset."
   ]
  },
  {
   "cell_type": "code",
   "execution_count": 10,
   "id": "44434de2",
   "metadata": {
    "scrolled": true
   },
   "outputs": [
    {
     "data": {
      "text/plain": [
       "785        11\n",
       "6784       12\n",
       "1588       13\n",
       "4864       13\n",
       "2000       15\n",
       "        ...  \n",
       "8790     2000\n",
       "5129     2000\n",
       "9241    12732\n",
       "5915    24606\n",
       "2397    46335\n",
       "Name: area, Length: 10334, dtype: int64"
      ]
     },
     "execution_count": 10,
     "metadata": {},
     "output_type": "execute_result"
    }
   ],
   "source": [
    "data1.area.sort_values()"
   ]
  },
  {
   "cell_type": "code",
   "execution_count": 11,
   "id": "dd6cea32",
   "metadata": {},
   "outputs": [],
   "source": [
    "data1 = data1.drop(index=[9241, 5915, 2397])"
   ]
  },
  {
   "cell_type": "code",
   "execution_count": 12,
   "id": "eaf99486",
   "metadata": {
    "scrolled": true
   },
   "outputs": [
    {
     "data": {
      "text/plain": [
       "<AxesSubplot:xlabel='area'>"
      ]
     },
     "execution_count": 12,
     "metadata": {},
     "output_type": "execute_result"
    },
    {
     "data": {
      "image/png": "[encoded data removed]",
      "text/plain": [
       "<Figure size 432x288 with 1 Axes>"
      ]
     },
     "metadata": {
      "needs_background": "light"
     },
     "output_type": "display_data"
    }
   ],
   "source": [
    "sns.boxplot(data=data1, x='area')"
   ]
  },
  {
   "cell_type": "markdown",
   "id": "a97b23af",
   "metadata": {},
   "source": [
    "Now it will be made the analyzis of 'association_tax', 'property_tax', 'rent_amount', 'fire_insurance' and 'total'."
   ]
  },
  {
   "cell_type": "code",
   "execution_count": 13,
   "id": "67426c33",
   "metadata": {
    "scrolled": false
   },
   "outputs": [
    {
     "data": {
      "text/plain": [
       "Text(0.5, 0, '')"
      ]
     },
     "execution_count": 13,
     "metadata": {},
     "output_type": "execute_result"
    },
    {
     "data": {
      "image/png": "[encoded data removed]",
      "text/plain": [
       "<Figure size 864x648 with 5 Axes>"
      ]
     },
     "metadata": {
      "needs_background": "light"
     },
     "output_type": "display_data"
    }
   ],
   "source": [
    "fig, (ax1, ax2, ax3, ax4, ax5) = plt.subplots(5, figsize=(12,9))\n",
    "\n",
    "sns.boxplot(x='total', data=data1, ax=ax1, color='red')\n",
    "ax1.legend(labels=['total'])\n",
    "\n",
    "sns.boxplot(x='rent_amount', data=data1, ax=ax2, color='blue')\n",
    "ax2.legend(labels=['rent_amount'])\n",
    "\n",
    "sns.boxplot(x='property_tax', data=data1, ax=ax3, color='green')\n",
    "ax3.legend(labels=['property_tax'])\n",
    "\n",
    "sns.boxplot(x='fire_insurance', data=data1, ax=ax4, color='orange')\n",
    "ax4.legend(labels=['fire_insurance'])\n",
    "\n",
    "sns.boxplot(x='association_tax', data=data1, ax=ax5, color='yellow')\n",
    "ax5.legend(labels=['association_tax'])\n",
    "ax5.set_xlabel('')"
   ]
  },
  {
   "cell_type": "markdown",
   "id": "995b6018",
   "metadata": {},
   "source": [
    "Notably, the last value of those five numeric variables is a very distinct outlier. Therefore, it will be removed from the dataset."
   ]
  },
  {
   "cell_type": "code",
   "execution_count": 14,
   "id": "38f7c62f",
   "metadata": {},
   "outputs": [
    {
     "data": {
      "text/plain": [
       "974       10000\n",
       "8858      10000\n",
       "5293      14000\n",
       "415       14130\n",
       "1213      15000\n",
       "1444      32000\n",
       "2928      81150\n",
       "2859     200000\n",
       "6230     220000\n",
       "255     1117000\n",
       "Name: association_tax, dtype: int64"
      ]
     },
     "execution_count": 14,
     "metadata": {},
     "output_type": "execute_result"
    }
   ],
   "source": [
    "data1.sort_values('association_tax').association_tax.tail(10)"
   ]
  },
  {
   "cell_type": "code",
   "execution_count": 15,
   "id": "e1c0a57c",
   "metadata": {
    "scrolled": true
   },
   "outputs": [
    {
     "data": {
      "text/plain": [
       "(10330, 13)"
      ]
     },
     "execution_count": 15,
     "metadata": {},
     "output_type": "execute_result"
    }
   ],
   "source": [
    "data2 = data1.drop(index=255)\n",
    "data2.shape"
   ]
  },
  {
   "cell_type": "markdown",
   "id": "6a11168c",
   "metadata": {},
   "source": [
    "## Exploratory Data Analysis"
   ]
  },
  {
   "cell_type": "markdown",
   "id": "98d603e7",
   "metadata": {},
   "source": [
    "First, let's see how many entries each city has."
   ]
  },
  {
   "cell_type": "code",
   "execution_count": 16,
   "id": "8e93c28a",
   "metadata": {},
   "outputs": [
    {
     "data": {
      "text/plain": [
       "<AxesSubplot:xlabel='city', ylabel='count'>"
      ]
     },
     "execution_count": 16,
     "metadata": {},
     "output_type": "execute_result"
    },
    {
     "data": {
      "image/png": "[encoded data removed]",
      "text/plain": [
       "<Figure size 432x288 with 1 Axes>"
      ]
     },
     "metadata": {
      "needs_background": "light"
     },
     "output_type": "display_data"
    }
   ],
   "source": [
    "sns.countplot(data=data2, x='city')"
   ]
  },
  {
   "cell_type": "markdown",
   "id": "a9181894",
   "metadata": {},
   "source": [
    "There are much more entries from \"São Paulo\" in comparison with other cities. Let's see how is the distribution of the total value of houses for each city."
   ]
  },
  {
   "cell_type": "code",
   "execution_count": 17,
   "id": "9ac23525",
   "metadata": {
    "scrolled": false
   },
   "outputs": [
    {
     "data": {
      "text/plain": [
       "<AxesSubplot:xlabel='total', ylabel='city'>"
      ]
     },
     "execution_count": 17,
     "metadata": {},
     "output_type": "execute_result"
    },
    {
     "data": {
      "image/png": "[encoded data removed]",
      "text/plain": [
       "<Figure size 432x288 with 1 Axes>"
      ]
     },
     "metadata": {
      "needs_background": "light"
     },
     "output_type": "display_data"
    }
   ],
   "source": [
    "sns.barplot(x='total', y='city', hue='furniture', data=data2)"
   ]
  },
  {
   "cell_type": "markdown",
   "id": "1f9d1a1e",
   "metadata": {},
   "source": [
    "The boxplot above shows that furnished houses tend to be more expensive than houses that don't to all cities."
   ]
  },
  {
   "cell_type": "code",
   "execution_count": 18,
   "id": "4a68983d",
   "metadata": {},
   "outputs": [
    {
     "data": {
      "text/plain": [
       "<AxesSubplot:xlabel='total', ylabel='city'>"
      ]
     },
     "execution_count": 18,
     "metadata": {},
     "output_type": "execute_result"
    },
    {
     "data": {
      "image/png": "[encoded data removed]",
      "text/plain": [
       "<Figure size 432x288 with 1 Axes>"
      ]
     },
     "metadata": {
      "needs_background": "light"
     },
     "output_type": "display_data"
    }
   ],
   "source": [
    "sns.barplot(x='total', y='city', hue='animal', data=data2)"
   ]
  },
  {
   "cell_type": "markdown",
   "id": "835d6524",
   "metadata": {},
   "source": [
    "The boxplot above shows that houses that allow animals tend to be more expensive than houses that don't to all cities. "
   ]
  },
  {
   "cell_type": "markdown",
   "id": "e7adbcbf",
   "metadata": {},
   "source": [
    "## Feature Engineering"
   ]
  },
  {
   "cell_type": "markdown",
   "id": "e1054620",
   "metadata": {},
   "source": [
    "Let's see how a log transformation can change the shape of 'total' variable distribution."
   ]
  },
  {
   "cell_type": "code",
   "execution_count": 19,
   "id": "85fb0657",
   "metadata": {
    "scrolled": false
   },
   "outputs": [
    {
     "data": {
      "text/plain": [
       "<seaborn.axisgrid.FacetGrid at 0x1d782574d60>"
      ]
     },
     "execution_count": 19,
     "metadata": {},
     "output_type": "execute_result"
    },
    {
     "data": {
      "image/png": "[encoded data removed]",
      "text/plain": [
       "<Figure size 360x360 with 1 Axes>"
      ]
     },
     "metadata": {
      "needs_background": "light"
     },
     "output_type": "display_data"
    }
   ],
   "source": [
    "# 'total' variable's histogram\n",
    "sns.displot(data2.total)"
   ]
  },
  {
   "cell_type": "code",
   "execution_count": 20,
   "id": "d5437a41",
   "metadata": {},
   "outputs": [
    {
     "data": {
      "text/plain": [
       "<seaborn.axisgrid.FacetGrid at 0x1d782605fd0>"
      ]
     },
     "execution_count": 20,
     "metadata": {},
     "output_type": "execute_result"
    },
    {
     "data": {
      "image/png": "[encoded data removed]",
      "text/plain": [
       "<Figure size 360x360 with 1 Axes>"
      ]
     },
     "metadata": {
      "needs_background": "light"
     },
     "output_type": "display_data"
    }
   ],
   "source": [
    "# 'total' variable's histogram after log transformation\n",
    "sns.displot(np.log(data2.total))"
   ]
  },
  {
   "cell_type": "markdown",
   "id": "288d5084",
   "metadata": {},
   "source": [
    "Our data has better behavior, which will help in the further process. Therefore, the log transformation will be applied to other numerical variables."
   ]
  },
  {
   "cell_type": "code",
   "execution_count": 21,
   "id": "9f97e9f7",
   "metadata": {},
   "outputs": [],
   "source": [
    "# List of variables to be transformed\n",
    "log_col= ['area', 'association_tax', 'rent_amount', 'property_tax', 'fire_insurance', 'total']\n",
    "\n",
    "for var in log_col:\n",
    "    data2[f'log_{var}'] = np.log(data2[var]+1)"
   ]
  },
  {
   "cell_type": "code",
   "execution_count": 22,
   "id": "2d4c2492",
   "metadata": {},
   "outputs": [
    {
     "data": {
      "text/html": [
       "<div>\n",
       "<style scoped>\n",
       "    .dataframe tbody tr th:only-of-type {\n",
       "        vertical-align: middle;\n",
       "    }\n",
       "\n",
       "    .dataframe tbody tr th {\n",
       "        vertical-align: top;\n",
       "    }\n",
       "\n",
       "    .dataframe thead th {\n",
       "        text-align: right;\n",
       "    }\n",
       "</style>\n",
       "<table border=\"1\" class=\"dataframe\">\n",
       "  <thead>\n",
       "    <tr style=\"text-align: right;\">\n",
       "      <th></th>\n",
       "      <th>area</th>\n",
       "      <th>rooms</th>\n",
       "      <th>bathroom</th>\n",
       "      <th>parking_spaces</th>\n",
       "      <th>association_tax</th>\n",
       "      <th>rent_amount</th>\n",
       "      <th>property_tax</th>\n",
       "      <th>fire_insurance</th>\n",
       "      <th>total</th>\n",
       "      <th>log_area</th>\n",
       "      <th>log_association_tax</th>\n",
       "      <th>log_rent_amount</th>\n",
       "      <th>log_property_tax</th>\n",
       "      <th>log_fire_insurance</th>\n",
       "      <th>log_total</th>\n",
       "    </tr>\n",
       "  </thead>\n",
       "  <tbody>\n",
       "    <tr>\n",
       "      <th>count</th>\n",
       "      <td>10330.000000</td>\n",
       "      <td>10330.000000</td>\n",
       "      <td>10330.000000</td>\n",
       "      <td>10330.000000</td>\n",
       "      <td>10330.000000</td>\n",
       "      <td>10330.000000</td>\n",
       "      <td>10330.000000</td>\n",
       "      <td>10330.000000</td>\n",
       "      <td>10330.000000</td>\n",
       "      <td>10330.000000</td>\n",
       "      <td>10330.000000</td>\n",
       "      <td>10330.000000</td>\n",
       "      <td>10330.000000</td>\n",
       "      <td>10330.000000</td>\n",
       "      <td>10330.000000</td>\n",
       "    </tr>\n",
       "    <tr>\n",
       "      <th>mean</th>\n",
       "      <td>144.383446</td>\n",
       "      <td>2.539690</td>\n",
       "      <td>2.267861</td>\n",
       "      <td>1.644240</td>\n",
       "      <td>983.155954</td>\n",
       "      <td>3965.799903</td>\n",
       "      <td>376.236399</td>\n",
       "      <td>54.258567</td>\n",
       "      <td>5379.650048</td>\n",
       "      <td>4.659411</td>\n",
       "      <td>5.211945</td>\n",
       "      <td>7.968982</td>\n",
       "      <td>4.450197</td>\n",
       "      <td>3.701097</td>\n",
       "      <td>8.263903</td>\n",
       "    </tr>\n",
       "    <tr>\n",
       "      <th>std</th>\n",
       "      <td>135.380176</td>\n",
       "      <td>1.167965</td>\n",
       "      <td>1.413591</td>\n",
       "      <td>1.598164</td>\n",
       "      <td>3239.302935</td>\n",
       "      <td>3436.226664</td>\n",
       "      <td>3160.352844</td>\n",
       "      <td>48.166355</td>\n",
       "      <td>6346.694082</td>\n",
       "      <td>0.780831</td>\n",
       "      <td>2.908240</td>\n",
       "      <td>0.789549</td>\n",
       "      <td>2.194058</td>\n",
       "      <td>0.776436</td>\n",
       "      <td>0.792086</td>\n",
       "    </tr>\n",
       "    <tr>\n",
       "      <th>min</th>\n",
       "      <td>11.000000</td>\n",
       "      <td>1.000000</td>\n",
       "      <td>1.000000</td>\n",
       "      <td>0.000000</td>\n",
       "      <td>0.000000</td>\n",
       "      <td>450.000000</td>\n",
       "      <td>0.000000</td>\n",
       "      <td>3.000000</td>\n",
       "      <td>499.000000</td>\n",
       "      <td>2.484907</td>\n",
       "      <td>0.000000</td>\n",
       "      <td>6.111467</td>\n",
       "      <td>0.000000</td>\n",
       "      <td>1.386294</td>\n",
       "      <td>6.214608</td>\n",
       "    </tr>\n",
       "    <tr>\n",
       "      <th>25%</th>\n",
       "      <td>59.000000</td>\n",
       "      <td>2.000000</td>\n",
       "      <td>1.000000</td>\n",
       "      <td>1.000000</td>\n",
       "      <td>180.000000</td>\n",
       "      <td>1592.000000</td>\n",
       "      <td>40.250000</td>\n",
       "      <td>21.000000</td>\n",
       "      <td>2115.250000</td>\n",
       "      <td>4.094345</td>\n",
       "      <td>5.198497</td>\n",
       "      <td>7.373372</td>\n",
       "      <td>3.719596</td>\n",
       "      <td>3.091042</td>\n",
       "      <td>7.657401</td>\n",
       "    </tr>\n",
       "    <tr>\n",
       "      <th>50%</th>\n",
       "      <td>95.000000</td>\n",
       "      <td>3.000000</td>\n",
       "      <td>2.000000</td>\n",
       "      <td>1.000000</td>\n",
       "      <td>570.500000</td>\n",
       "      <td>2750.000000</td>\n",
       "      <td>130.000000</td>\n",
       "      <td>37.000000</td>\n",
       "      <td>3685.000000</td>\n",
       "      <td>4.564348</td>\n",
       "      <td>6.348264</td>\n",
       "      <td>7.919720</td>\n",
       "      <td>4.875197</td>\n",
       "      <td>3.637586</td>\n",
       "      <td>8.212297</td>\n",
       "    </tr>\n",
       "    <tr>\n",
       "      <th>75%</th>\n",
       "      <td>190.000000</td>\n",
       "      <td>3.000000</td>\n",
       "      <td>3.000000</td>\n",
       "      <td>2.000000</td>\n",
       "      <td>1285.750000</td>\n",
       "      <td>5000.000000</td>\n",
       "      <td>389.000000</td>\n",
       "      <td>70.000000</td>\n",
       "      <td>6907.750000</td>\n",
       "      <td>5.252273</td>\n",
       "      <td>7.159875</td>\n",
       "      <td>8.517393</td>\n",
       "      <td>5.966147</td>\n",
       "      <td>4.262680</td>\n",
       "      <td>8.840544</td>\n",
       "    </tr>\n",
       "    <tr>\n",
       "      <th>max</th>\n",
       "      <td>2000.000000</td>\n",
       "      <td>13.000000</td>\n",
       "      <td>10.000000</td>\n",
       "      <td>12.000000</td>\n",
       "      <td>220000.000000</td>\n",
       "      <td>45000.000000</td>\n",
       "      <td>313700.000000</td>\n",
       "      <td>677.000000</td>\n",
       "      <td>316900.000000</td>\n",
       "      <td>7.601402</td>\n",
       "      <td>12.301387</td>\n",
       "      <td>10.714440</td>\n",
       "      <td>12.656196</td>\n",
       "      <td>6.519147</td>\n",
       "      <td>12.666345</td>\n",
       "    </tr>\n",
       "  </tbody>\n",
       "</table>\n",
       "</div>"
      ],
      "text/plain": [
       "               area         rooms      bathroom  parking_spaces  \\\n",
       "count  10330.000000  10330.000000  10330.000000    10330.000000   \n",
       "mean     144.383446      2.539690      2.267861        1.644240   \n",
       "std      135.380176      1.167965      1.413591        1.598164   \n",
       "min       11.000000      1.000000      1.000000        0.000000   \n",
       "25%       59.000000      2.000000      1.000000        1.000000   \n",
       "50%       95.000000      3.000000      2.000000        1.000000   \n",
       "75%      190.000000      3.000000      3.000000        2.000000   \n",
       "max     2000.000000     13.000000     10.000000       12.000000   \n",
       "\n",
       "       association_tax   rent_amount   property_tax  fire_insurance  \\\n",
       "count     10330.000000  10330.000000   10330.000000    10330.000000   \n",
       "mean        983.155954   3965.799903     376.236399       54.258567   \n",
       "std        3239.302935   3436.226664    3160.352844       48.166355   \n",
       "min           0.000000    450.000000       0.000000        3.000000   \n",
       "25%         180.000000   1592.000000      40.250000       21.000000   \n",
       "50%         570.500000   2750.000000     130.000000       37.000000   \n",
       "75%        1285.750000   5000.000000     389.000000       70.000000   \n",
       "max      220000.000000  45000.000000  313700.000000      677.000000   \n",
       "\n",
       "               total      log_area  log_association_tax  log_rent_amount  \\\n",
       "count   10330.000000  10330.000000         10330.000000     10330.000000   \n",
       "mean     5379.650048      4.659411             5.211945         7.968982   \n",
       "std      6346.694082      0.780831             2.908240         0.789549   \n",
       "min       499.000000      2.484907             0.000000         6.111467   \n",
       "25%      2115.250000      4.094345             5.198497         7.373372   \n",
       "50%      3685.000000      4.564348             6.348264         7.919720   \n",
       "75%      6907.750000      5.252273             7.159875         8.517393   \n",
       "max    316900.000000      7.601402            12.301387        10.714440   \n",
       "\n",
       "       log_property_tax  log_fire_insurance     log_total  \n",
       "count      10330.000000        10330.000000  10330.000000  \n",
       "mean           4.450197            3.701097      8.263903  \n",
       "std            2.194058            0.776436      0.792086  \n",
       "min            0.000000            1.386294      6.214608  \n",
       "25%            3.719596            3.091042      7.657401  \n",
       "50%            4.875197            3.637586      8.212297  \n",
       "75%            5.966147            4.262680      8.840544  \n",
       "max           12.656196            6.519147     12.666345  "
      ]
     },
     "execution_count": 22,
     "metadata": {},
     "output_type": "execute_result"
    }
   ],
   "source": [
    "data2.describe()"
   ]
  },
  {
   "cell_type": "code",
   "execution_count": 23,
   "id": "036979b5",
   "metadata": {},
   "outputs": [
    {
     "data": {
      "text/plain": [
       "Text(0.5, 0, '')"
      ]
     },
     "execution_count": 23,
     "metadata": {},
     "output_type": "execute_result"
    },
    {
     "data": {
      "image/png": "[encoded data removed]",
      "text/plain": [
       "<Figure size 864x504 with 6 Axes>"
      ]
     },
     "metadata": {
      "needs_background": "light"
     },
     "output_type": "display_data"
    }
   ],
   "source": [
    "fig, ((ax1, ax2), (ax3, ax4), (ax5, ax6)) = plt.subplots(3,2, figsize=(12,7))\n",
    "\n",
    "sns.boxplot(x='log_association_tax', data=data2, ax=ax1, color='yellow')\n",
    "ax1.legend(labels=['log_association_tax'])\n",
    "\n",
    "sns.boxplot(x='log_rent_amount', data=data2, ax=ax2, color='blue')\n",
    "ax2.legend(labels=['log_rent_amount'])\n",
    "\n",
    "sns.boxplot(x='log_property_tax', data=data2, ax=ax3, color='green')\n",
    "ax3.legend(labels=['log_property_tax'])\n",
    "\n",
    "sns.boxplot(x='log_fire_insurance', data=data2, ax=ax4, color='orange')\n",
    "ax4.legend(labels=['log_fire_insurance'])\n",
    "\n",
    "sns.boxplot(x='log_area', data=data2, ax=ax5, color='red')\n",
    "ax5.legend(labels=['log_area'])\n",
    "\n",
    "sns.boxplot(x='log_total', data=data2, ax=ax6, color='grey')\n",
    "ax6.legend(labels=['log_total'])\n",
    "\n",
    "ax6.set_xlabel('')"
   ]
  },
  {
   "cell_type": "markdown",
   "id": "cddf7875",
   "metadata": {},
   "source": [
    "The boxplots for the transformed variables show that, even though there are still some outliers, the behavior of those variables seems closer to a normal distribution. "
   ]
  },
  {
   "cell_type": "code",
   "execution_count": 24,
   "id": "0356a864",
   "metadata": {},
   "outputs": [
    {
     "data": {
      "text/plain": [
       "Text(0.5, 0, '')"
      ]
     },
     "execution_count": 24,
     "metadata": {},
     "output_type": "execute_result"
    },
    {
     "data": {
      "image/png": "[encoded data removed]",
      "text/plain": [
       "<Figure size 864x504 with 6 Axes>"
      ]
     },
     "metadata": {
      "needs_background": "light"
     },
     "output_type": "display_data"
    }
   ],
   "source": [
    "fig, ((ax1, ax2), (ax3, ax4), (ax5, ax6)) = plt.subplots(3,2, figsize=(12,7))\n",
    "\n",
    "sns.histplot((data2.log_association_tax), ax=ax1, color='yellow')\n",
    "ax1.legend(labels=['log_association_tax'])\n",
    "\n",
    "sns.histplot((data2.log_rent_amount), ax=ax2, color='blue')\n",
    "ax2.legend(labels=['log_rent_amount'])\n",
    "\n",
    "sns.histplot((data2.log_property_tax), ax=ax3, color='green')\n",
    "ax3.legend(labels=['log_property_tax'])\n",
    "\n",
    "sns.histplot((data2.log_fire_insurance), ax=ax4, color='orange')\n",
    "ax4.legend(labels=['log_fire_insurance'])\n",
    "\n",
    "sns.histplot((data2.log_area), ax=ax5, color='red')\n",
    "ax5.legend(labels=['log_area'])\n",
    "\n",
    "sns.histplot((data2.log_total), ax=ax6, color='grey')\n",
    "ax6.legend(labels=['log_total'])\n",
    "\n",
    "ax6.set_xlabel('')"
   ]
  },
  {
   "cell_type": "markdown",
   "id": "2e6b2e9e",
   "metadata": {},
   "source": [
    "The graphs above show that those variables behave closer to a normal distribution. The high amount of \"0\" values in 'log_association_tax' and 'log_property_tax' represents houses that don't have to pay those fees. Therefore, I will create two variables that indicates if a house has or doesn't have to pay association tax or property tax."
   ]
  },
  {
   "cell_type": "code",
   "execution_count": 25,
   "id": "1210fbcc",
   "metadata": {},
   "outputs": [],
   "source": [
    "# Creation of a bool variable for paying association tax and property tax\n",
    "data2['association_tax_bool'] = (data2.log_association_tax!=0).astype(int)\n",
    "data2['property_tax_bool'] = (data2.property_tax!=0).astype(int)"
   ]
  },
  {
   "cell_type": "markdown",
   "id": "92c4f75a",
   "metadata": {},
   "source": [
    "I will now drop the full values and work only with the log transformed values."
   ]
  },
  {
   "cell_type": "code",
   "execution_count": 26,
   "id": "f1202994",
   "metadata": {},
   "outputs": [],
   "source": [
    "data3 = data2.drop(columns = log_col)"
   ]
  },
  {
   "cell_type": "code",
   "execution_count": 27,
   "id": "b9be5a90",
   "metadata": {},
   "outputs": [
    {
     "data": {
      "text/plain": [
       "Index(['city', 'rooms', 'bathroom', 'parking_spaces', 'floor', 'animal',\n",
       "       'furniture', 'log_area', 'log_association_tax', 'log_rent_amount',\n",
       "       'log_property_tax', 'log_fire_insurance', 'log_total',\n",
       "       'association_tax_bool', 'property_tax_bool'],\n",
       "      dtype='object')"
      ]
     },
     "execution_count": 27,
     "metadata": {},
     "output_type": "execute_result"
    }
   ],
   "source": [
    "data3.columns"
   ]
  },
  {
   "cell_type": "code",
   "execution_count": 28,
   "id": "d21a4585",
   "metadata": {},
   "outputs": [
    {
     "name": "stdout",
     "output_type": "stream",
     "text": [
      "Unique values of furniture: ['furnished' 'not furnished']\n",
      "Unique values of animal: ['acept' 'not acept']\n"
     ]
    }
   ],
   "source": [
    "print(f'Unique values of furniture: {data.furniture.unique()}')\n",
    "print(f'Unique values of animal: {data.animal.unique()}')"
   ]
  },
  {
   "cell_type": "markdown",
   "id": "b1dd962a",
   "metadata": {},
   "source": [
    "Since the modeling algorithms don't accept objects, I will map the binary values of those variables."
   ]
  },
  {
   "cell_type": "code",
   "execution_count": 29,
   "id": "7f2e3677",
   "metadata": {},
   "outputs": [],
   "source": [
    "binary_map = {'not furnished': 0, 'furnished': 1,\n",
    "              'not acept': 0, 'acept': 1}\n",
    "            \n",
    "data4 = data3.replace(binary_map)"
   ]
  },
  {
   "cell_type": "markdown",
   "id": "c677e0e0",
   "metadata": {},
   "source": [
    "To finish, I will drop the \"floor\" column since it doesn't aggregate too much value for this analysis."
   ]
  },
  {
   "cell_type": "code",
   "execution_count": 30,
   "id": "774545c2",
   "metadata": {},
   "outputs": [],
   "source": [
    "data_cleaned = data4.drop(columns=['floor'])"
   ]
  },
  {
   "cell_type": "code",
   "execution_count": 31,
   "id": "1a2306ad",
   "metadata": {
    "scrolled": false
   },
   "outputs": [
    {
     "name": "stdout",
     "output_type": "stream",
     "text": [
      "<class 'pandas.core.frame.DataFrame'>\n",
      "Int64Index: 10330 entries, 0 to 10691\n",
      "Data columns (total 14 columns):\n",
      " #   Column                Non-Null Count  Dtype  \n",
      "---  ------                --------------  -----  \n",
      " 0   city                  10330 non-null  object \n",
      " 1   rooms                 10330 non-null  int64  \n",
      " 2   bathroom              10330 non-null  int64  \n",
      " 3   parking_spaces        10330 non-null  int64  \n",
      " 4   animal                10330 non-null  int64  \n",
      " 5   furniture             10330 non-null  int64  \n",
      " 6   log_area              10330 non-null  float64\n",
      " 7   log_association_tax   10330 non-null  float64\n",
      " 8   log_rent_amount       10330 non-null  float64\n",
      " 9   log_property_tax      10330 non-null  float64\n",
      " 10  log_fire_insurance    10330 non-null  float64\n",
      " 11  log_total             10330 non-null  float64\n",
      " 12  association_tax_bool  10330 non-null  int32  \n",
      " 13  property_tax_bool     10330 non-null  int32  \n",
      "dtypes: float64(6), int32(2), int64(5), object(1)\n",
      "memory usage: 1.4+ MB\n"
     ]
    }
   ],
   "source": [
    "data_cleaned.info()"
   ]
  },
  {
   "cell_type": "markdown",
   "id": "a0f1e373",
   "metadata": {},
   "source": [
    "## Summary for Data Cleaning and Featuring Engineering\n",
    "\n",
    "- Removing 358 duplicated values;\n",
    "- Dropping 4 outlier values;\n",
    "- Performing log transformation in all numeric variables;\n",
    "- Creation of 2 boolean variables (association_tax_boll and property_tax_bool);\n",
    "- Dropping \"floor\" variable;\n",
    "- OneHotEncoder and Standard Scaler must be used at the model creation."
   ]
  },
  {
   "cell_type": "markdown",
   "id": "787623b8",
   "metadata": {},
   "source": [
    "## Model Creation"
   ]
  },
  {
   "cell_type": "markdown",
   "id": "e7bc93d3",
   "metadata": {},
   "source": [
    "Linear regreesion models variations used for this training:\n",
    "- Regular Linear Regression \n",
    "- Linear Regression with Polynomial Features\n",
    "- LASSO Regression"
   ]
  },
  {
   "cell_type": "code",
   "execution_count": 32,
   "id": "c89da3eb",
   "metadata": {},
   "outputs": [],
   "source": [
    "# Selecting variables to scale (also drop log Total to avoid multicolinearity)\n",
    "numeric_non_bin = data_cleaned._get_numeric_data().drop(columns=['animal', 'furniture', 'association_tax_bool', 'property_tax_bool', 'log_total', 'log_rent_amount']).columns.tolist()\n",
    "\n",
    "# One Hot Encoder Pipeline\n",
    "preprocess = ColumnTransformer([('categorical_transformer', OneHotEncoder(), ['city']),\n",
    "                                ('scaler', StandardScaler(), numeric_non_bin)])"
   ]
  },
  {
   "cell_type": "code",
   "execution_count": 33,
   "id": "039ebaf1",
   "metadata": {},
   "outputs": [],
   "source": [
    "# Separation of dependent and independent variables (features)\n",
    "X = data_cleaned.drop(columns=['log_rent_amount', 'log_total'])\n",
    "y = data_cleaned.log_rent_amount"
   ]
  },
  {
   "cell_type": "code",
   "execution_count": 34,
   "id": "ecc66c47",
   "metadata": {},
   "outputs": [],
   "source": [
    "# Defining a SEED\n",
    "SEED = 42\n",
    "np.random.seed(SEED)"
   ]
  },
  {
   "cell_type": "code",
   "execution_count": 35,
   "id": "ad1fead5",
   "metadata": {},
   "outputs": [],
   "source": [
    "# Train test split to avoid Data Leakage\n",
    "X_train, X_test, y_train, y_test = train_test_split(X, y, test_size=0.2, random_state=SEED)"
   ]
  },
  {
   "cell_type": "markdown",
   "id": "a2164ad1",
   "metadata": {},
   "source": [
    "### Regular Linear Regression"
   ]
  },
  {
   "cell_type": "code",
   "execution_count": 36,
   "id": "a0560c7f",
   "metadata": {
    "scrolled": true
   },
   "outputs": [
    {
     "name": "stdout",
     "output_type": "stream",
     "text": [
      "Linear Regression RMSE: 0.0941050111956517\n",
      "Linear Regression R2: 0.9856647730604124\n"
     ]
    }
   ],
   "source": [
    "# Regular Linear Regression Pipeline\n",
    "lr = Pipeline([('preprocess', preprocess),\n",
    "               ('model', LinearRegression())])\n",
    "\n",
    "lr = lr.fit(X_train, y_train)\n",
    "lr_pred = lr.predict(X_test)\n",
    "\n",
    "lr_rmse = np.sqrt(mean_squared_error(y_test, lr_pred))\n",
    "lr_r2 = r2_score(y_test, lr_pred)\n",
    "\n",
    "print(f'Linear Regression RMSE: {lr_rmse}')\n",
    "print(f'Linear Regression R2: {lr_r2}')"
   ]
  },
  {
   "cell_type": "markdown",
   "id": "3ece66b6",
   "metadata": {},
   "source": [
    "### Lasso Regression"
   ]
  },
  {
   "cell_type": "code",
   "execution_count": 40,
   "id": "bd879281",
   "metadata": {},
   "outputs": [
    {
     "name": "stdout",
     "output_type": "stream",
     "text": [
      "Lasso RMSE: 0.0941050111956517\n",
      "Lasso R2: 0.9856647730604124\n"
     ]
    }
   ],
   "source": [
    "# Lasso Pipeline\n",
    "\"\"\"\n",
    "lasso = Pipeline([('preprocess', preprocess),\n",
    "               ('model', Lasso(alpha=0.0001))])\n",
    "\"\"\"\n",
    "lasso = Pipeline([('preprocess', preprocess),\n",
    "               ('model', Lasso(alpha=0.1))])\n",
    "\n",
    "lasso = lasso.fit(X_train, y_train)\n",
    "lasso_pred = lasso.predict(X_test)\n",
    "\n",
    "lasso_rmse = np.sqrt(mean_squared_error(y_test, lr_pred))\n",
    "lasso_r2 = r2_score(y_test, lr_pred)\n",
    "\n",
    "print(f'Lasso RMSE: {lasso_rmse}')\n",
    "print(f'Lasso R2: {lasso_r2}')"
   ]
  },
  {
   "cell_type": "markdown",
   "id": "8a114818",
   "metadata": {},
   "source": [
    "### Polynomial Features"
   ]
  },
  {
   "cell_type": "code",
   "execution_count": 38,
   "id": "e57575b7",
   "metadata": {},
   "outputs": [
    {
     "name": "stdout",
     "output_type": "stream",
     "text": [
      "Polynomial RMSE: 0.0941050111956517\n",
      "Polynomial R2: 0.9870664648846857\n"
     ]
    }
   ],
   "source": [
    "# Polynomial Features\n",
    "poly = Pipeline([('preprocess', preprocess),\n",
    "                 ('polynomial', PolynomialFeatures(degree=3)),\n",
    "                 ('model', LinearRegression())])\n",
    "\n",
    "poly = poly.fit(X_train, y_train)\n",
    "poly_pred = poly.predict(X_test)\n",
    "\n",
    "poly_rmse = np.sqrt(mean_squared_error(y_test, lr_pred))\n",
    "poly_r2 = r2_score(y_test, poly_pred)\n",
    "\n",
    "print(f'Polynomial RMSE: {poly_rmse}')\n",
    "print(f'Polynomial R2: {poly_r2}')"
   ]
  },
  {
   "cell_type": "code",
   "execution_count": 39,
   "id": "cc7efddc",
   "metadata": {},
   "outputs": [
    {
     "data": {
      "text/html": [
       "<div>\n",
       "<style scoped>\n",
       "    .dataframe tbody tr th:only-of-type {\n",
       "        vertical-align: middle;\n",
       "    }\n",
       "\n",
       "    .dataframe tbody tr th {\n",
       "        vertical-align: top;\n",
       "    }\n",
       "\n",
       "    .dataframe thead th {\n",
       "        text-align: right;\n",
       "    }\n",
       "</style>\n",
       "<table border=\"1\" class=\"dataframe\">\n",
       "  <thead>\n",
       "    <tr style=\"text-align: right;\">\n",
       "      <th></th>\n",
       "      <th>RMSE</th>\n",
       "      <th>R2</th>\n",
       "    </tr>\n",
       "    <tr>\n",
       "      <th>Models</th>\n",
       "      <th></th>\n",
       "      <th></th>\n",
       "    </tr>\n",
       "  </thead>\n",
       "  <tbody>\n",
       "    <tr>\n",
       "      <th>Regular_LR</th>\n",
       "      <td>0.094105</td>\n",
       "      <td>0.985665</td>\n",
       "    </tr>\n",
       "    <tr>\n",
       "      <th>Lasso</th>\n",
       "      <td>0.094105</td>\n",
       "      <td>0.985665</td>\n",
       "    </tr>\n",
       "    <tr>\n",
       "      <th>Polynomial</th>\n",
       "      <td>0.094105</td>\n",
       "      <td>0.987066</td>\n",
       "    </tr>\n",
       "  </tbody>\n",
       "</table>\n",
       "</div>"
      ],
      "text/plain": [
       "                RMSE        R2\n",
       "Models                        \n",
       "Regular_LR  0.094105  0.985665\n",
       "Lasso       0.094105  0.985665\n",
       "Polynomial  0.094105  0.987066"
      ]
     },
     "execution_count": 39,
     "metadata": {},
     "output_type": "execute_result"
    }
   ],
   "source": [
    "# Results DataFrame\n",
    "results = {'RMSE': [lr_rmse, lasso_rmse, poly_rmse],\n",
    "           'R2': [lr_r2, lasso_r2, poly_r2],\n",
    "           'Models': ['Regular_LR', 'Lasso', 'Polynomial']}\n",
    "\n",
    "pd.DataFrame(results).set_index('Models')"
   ]
  },
  {
   "cell_type": "markdown",
   "id": "755aa821",
   "metadata": {},
   "source": [
    "The results show that there isn't a significant difference between a Regular Linear Regression and other transformation methods. The main difference was the R2 value of the model that performed Polynomial Featuring, larger than the other models.\n",
    "Therefore, the Linear Regression using Polynomial Featuring should be used to model the rent prices of Brazil's Houses."
   ]
  },
  {
   "cell_type": "markdown",
   "id": "f072153b",
   "metadata": {},
   "source": [
    "## Conclusions"
   ]
  },
  {
   "cell_type": "markdown",
   "id": "5acf66be",
   "metadata": {},
   "source": [
    "Actions taken in Data Cleaning and Feature Engineering:\n",
    "\n",
    "- Removing 358 duplicated values;\n",
    "- Dropping 4 outlier values;\n",
    "- Performing log transformation in all numeric variables;\n",
    "- Creation of 2 boolean variables (association_tax_boll and property_tax_bool);\n",
    "- Dropping \"floor\" variable;\n",
    "- OneHotEncoder and Standard Scaler used at the model creation.\n",
    "\n",
    "Model Creation Results:\n",
    "\n",
    "- Same values of RMSE for the 3 models (0.094105);\n",
    "- Best R2 value for the model that Performed Polynomial Featuring;\n",
    "- \"Polynomial\" is the best model."
   ]
  },
  {
   "cell_type": "markdown",
   "id": "9648d86a",
   "metadata": {},
   "source": [
    "## Next Steps"
   ]
  },
  {
   "cell_type": "markdown",
   "id": "c56c32a9",
   "metadata": {},
   "source": [
    "For the next steps, I suggest evaluating the model performance without using a log transformation in amount-related variables and compare with the transformed model. "
   ]
  },
  {
   "cell_type": "code",
   "execution_count": null,
   "id": "fb265290",
   "metadata": {},
   "outputs": [],
   "source": []
  }
 ],
 "metadata": {
  "kernelspec": {
   "display_name": "Python 3 (ipykernel)",
   "language": "python",
   "name": "python3"
  },
  "language_info": {
   "codemirror_mode": {
    "name": "ipython",
    "version": 3
   },
   "file_extension": ".py",
   "mimetype": "text/x-python",
   "name": "python",
   "nbconvert_exporter": "python",
   "pygments_lexer": "ipython3",
   "version": "3.9.7"
  }
 },
 "nbformat": 4,
 "nbformat_minor": 5
}
